{
  "cells": [
    {
      "cell_type": "markdown",
      "metadata": {
        "id": "SN8H1wkXPXZ9"
      },
      "source": [
        "# RSA"
      ]
    },
    {
      "cell_type": "code",
      "execution_count": null,
      "metadata": {
        "colab": {
          "base_uri": "https://localhost:8080/"
        },
        "id": "cdtAO8nJT2kf",
        "outputId": "2797c89a-773b-4663-91db-4794b6d15e49"
      },
      "outputs": [
        {
          "output_type": "stream",
          "name": "stdout",
          "text": [
            "91694925243764\n"
          ]
        }
      ],
      "source": [
        "m = int(\"Secret\".encode(\"utf-8\").hex(),16)\n",
        "print(m)"
      ]
    },
    {
      "cell_type": "code",
      "source": [
        "!pip install pycryptodome"
      ],
      "metadata": {
        "colab": {
          "base_uri": "https://localhost:8080/"
        },
        "id": "saeFZ-AZhyMT",
        "outputId": "be0db40a-4c9f-4907-c176-b10bc0fa6714"
      },
      "execution_count": null,
      "outputs": [
        {
          "output_type": "stream",
          "name": "stdout",
          "text": [
            "Requirement already satisfied: pycryptodome in /usr/local/lib/python3.10/dist-packages (3.20.0)\n"
          ]
        }
      ]
    },
    {
      "cell_type": "code",
      "source": [
        "#generate large prime(128 bits) p and q\n",
        "\n",
        "\n",
        "\n",
        "\n",
        "#generate large prime(128 bits) p and q\n",
        "from Crypto.Util import number\n",
        "\n",
        "p = number.getPrime(128)\n",
        "q = number.getPrime(128)\n",
        "\n",
        "print(f\"Generated prime number p: {p}\")\n",
        "print(f\"Generated prime number q: {q}\")"
      ],
      "metadata": {
        "id": "u1fe5OEdFGGC",
        "colab": {
          "base_uri": "https://localhost:8080/"
        },
        "outputId": "06e01a1c-0997-4306-ba6c-fdeb52237474"
      },
      "execution_count": null,
      "outputs": [
        {
          "output_type": "stream",
          "name": "stdout",
          "text": [
            "Generated prime number p: 222907267478801443310013770374331300663\n",
            "Generated prime number q: 176513911825127650051924308215575425397\n"
          ]
        }
      ]
    },
    {
      "cell_type": "code",
      "execution_count": null,
      "metadata": {
        "colab": {
          "base_uri": "https://localhost:8080/"
        },
        "id": "Flep_Z78Pak0",
        "outputId": "827d8584-1837-42d3-9eaf-d95ac495f23d"
      },
      "outputs": [
        {
          "output_type": "stream",
          "name": "stdout",
          "text": [
            "generated ciphertext c: 29031123340513335080756047988775481028685195174866232454079437979044413669520\n"
          ]
        }
      ],
      "source": [
        "\n",
        "\n",
        "#Perform encryption here and generate ciphertext c and private key d\n",
        "e = 11\n",
        "n = p*q\n",
        "phi_n = (p-1)*(q-1)\n",
        "\n",
        "c = pow(m, e, n)\n",
        "\n",
        "\n",
        "print(f\"generated ciphertext c: {c}\")\n"
      ]
    },
    {
      "cell_type": "code",
      "execution_count": null,
      "metadata": {
        "id": "CUApcT0PZ4es",
        "colab": {
          "base_uri": "https://localhost:8080/"
        },
        "outputId": "24a4cced-110d-46ce-8f10-c75e433deeed"
      },
      "outputs": [
        {
          "output_type": "stream",
          "name": "stdout",
          "text": [
            "91694925243764\n",
            " generated private key d: 28615442732315128832999622885592752240039554596081858112493544869271728299747\n"
          ]
        }
      ],
      "source": [
        "\n",
        "#perform decryption here\n",
        "\n",
        "\n",
        "\n",
        "#perform decryption here\n",
        "def extended_gcd(a, b):\n",
        "    if a == 0:\n",
        "        return b, 0, 1\n",
        "    else:\n",
        "        g, x, y = extended_gcd(b % a, a)\n",
        "        return g, y - (b // a) * x, x\n",
        "\n",
        "def mod_inverse(e, phi_n):\n",
        "  g, x, _ = extended_gcd(e, phi_n)\n",
        "  if g != 1:\n",
        "      raise Exception('No Modular inverse')\n",
        "  else:\n",
        "      return x % phi_n\n",
        "\n",
        "d = mod_inverse(e, phi_n)\n",
        "m = pow(c, d, n)\n",
        "print(m)\n",
        "\n",
        "print(f\" generated private key d: {d}\")"
      ]
    },
    {
      "cell_type": "code",
      "source": [],
      "metadata": {
        "id": "sHDbhVSGFN6K"
      },
      "execution_count": null,
      "outputs": []
    },
    {
      "cell_type": "code",
      "source": [
        "m = 91694925243764\n",
        "\n",
        "print(bytes.fromhex(hex(m)[2:]).decode('utf-8') )\n",
        "\n",
        "\n"
      ],
      "metadata": {
        "colab": {
          "base_uri": "https://localhost:8080/"
        },
        "id": "ZzyG5MOdiOXU",
        "outputId": "8f32d990-9fb1-4a9e-fbad-47426fa1b602"
      },
      "execution_count": null,
      "outputs": [
        {
          "output_type": "stream",
          "name": "stdout",
          "text": [
            "Secret\n"
          ]
        }
      ]
    },
    {
      "cell_type": "code",
      "source": [
        "from Crypto.Util import number\n",
        "\n",
        "def generate_large_prime(bits):\n",
        "    return number.getPrime(bits)\n",
        "\n",
        "def perform_rsa_encryption(m, e, n):\n",
        "    return pow(m, e, n)\n",
        "\n",
        "def extended_gcd(a, b):\n",
        "    if a == 0:\n",
        "        return b, 0, 1\n",
        "    else:\n",
        "        g, x, y = extended_gcd(b % a, a)\n",
        "        return g, y - (b // a) * x, x\n",
        "\n",
        "def mod_inverse(e, phi_n):\n",
        "    g, x, _ = extended_gcd(e, phi_n)\n",
        "    if g != 1:\n",
        "        raise Exception('No Modular inverse')\n",
        "    else:\n",
        "        return x % phi_n\n",
        "\n",
        "def perform_rsa_decryption(c, d, n):\n",
        "    return pow(c, d, n)\n",
        "\n",
        "def decrypt_message(m):\n",
        "    return bytes.fromhex(hex(m)[2:]).decode('utf-8')\n",
        "\n",
        "# Generate prime numbers p and q\n",
        "p = generate_large_prime(128)\n",
        "q = generate_large_prime(128)\n",
        "\n",
        "print(f\"Generated prime number p: {p}\")\n",
        "print(f\"Generated prime number q: {q}\")\n",
        "\n",
        "# RSA key generation\n",
        "e = 11\n",
        "n = p * q\n",
        "phi_n = (p - 1) * (q - 1)\n",
        "d = mod_inverse(e, phi_n)\n",
        "\n",
        "# Example message to encrypt and decrypt\n",
        "message = int(\"Secret\".encode(\"utf-8\").hex(), 16)\n",
        "print(f\"Original message: {message}\")\n",
        "\n",
        "# Encryption\n",
        "ciphertext = perform_rsa_encryption(message, e, n)\n",
        "print(f\"Generated ciphertext c: {ciphertext}\")\n",
        "\n",
        "# Decryption\n",
        "decrypted_message = perform_rsa_decryption(ciphertext, d, n)\n",
        "print(f\"Decrypted message: {decrypt_message(decrypted_message)}\")\n",
        "\n",
        "print(d)"
      ],
      "metadata": {
        "id": "a0PQh7Yhml8c",
        "outputId": "cebd54e4-6740-4493-ca55-c2e0d139153d",
        "colab": {
          "base_uri": "https://localhost:8080/"
        }
      },
      "execution_count": null,
      "outputs": [
        {
          "output_type": "stream",
          "name": "stdout",
          "text": [
            "Generated prime number p: 211749827373320664416038765150983536701\n",
            "Generated prime number q: 271212098033103151984186602770640684751\n",
            "Original message: 91694925243764\n",
            "Generated ciphertext c: 21833943633453449567063490291075819753506615714079284251669708791426420449145\n",
            "Decrypted message: Secret\n",
            "46987457678235583642793560018360967956789510659559951500993013575107527084091\n"
          ]
        }
      ]
    },
    {
      "cell_type": "code",
      "source": [],
      "metadata": {
        "id": "LhiJsVWoml-6"
      },
      "execution_count": null,
      "outputs": []
    },
    {
      "cell_type": "code",
      "source": [],
      "metadata": {
        "id": "ggXDFQsVmmBj"
      },
      "execution_count": null,
      "outputs": []
    },
    {
      "cell_type": "code",
      "source": [],
      "metadata": {
        "id": "u8Z6YYpimmDz"
      },
      "execution_count": null,
      "outputs": []
    },
    {
      "cell_type": "code",
      "source": [],
      "metadata": {
        "id": "c6UPbktMmmGU"
      },
      "execution_count": null,
      "outputs": []
    },
    {
      "cell_type": "code",
      "source": [],
      "metadata": {
        "id": "mAPbCGmCmmI0"
      },
      "execution_count": null,
      "outputs": []
    },
    {
      "cell_type": "code",
      "source": [],
      "metadata": {
        "id": "cY33kt8hmmLb"
      },
      "execution_count": null,
      "outputs": []
    }
  ],
  "metadata": {
    "colab": {
      "provenance": []
    },
    "kernelspec": {
      "display_name": "Python 3",
      "name": "python3"
    },
    "language_info": {
      "name": "python"
    }
  },
  "nbformat": 4,
  "nbformat_minor": 0
}