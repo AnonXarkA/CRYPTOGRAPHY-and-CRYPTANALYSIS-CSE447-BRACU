{
  "nbformat": 4,
  "nbformat_minor": 0,
  "metadata": {
    "colab": {
      "provenance": []
    },
    "kernelspec": {
      "name": "python3",
      "display_name": "Python 3"
    },
    "language_info": {
      "name": "python"
    }
  },
  "cells": [
    {
      "cell_type": "code",
      "source": [
        "!pip install PyCryptodome"
      ],
      "metadata": {
        "colab": {
          "base_uri": "https://localhost:8080/"
        },
        "id": "Mo9IWa4YeIqm",
        "outputId": "beed40f8-3e0d-4097-967f-4da8cbbbbd10"
      },
      "execution_count": null,
      "outputs": [
        {
          "output_type": "stream",
          "name": "stdout",
          "text": [
            "Collecting PyCryptodome\n",
            "  Downloading pycryptodome-3.20.0-cp35-abi3-manylinux_2_17_x86_64.manylinux2014_x86_64.whl (2.1 MB)\n",
            "\u001b[2K     \u001b[90m━━━━━━━━━━━━━━━━━━━━━━━━━━━━━━━━━━━━━━━━\u001b[0m \u001b[32m2.1/2.1 MB\u001b[0m \u001b[31m21.6 MB/s\u001b[0m eta \u001b[36m0:00:00\u001b[0m\n",
            "\u001b[?25hInstalling collected packages: PyCryptodome\n",
            "Successfully installed PyCryptodome-3.20.0\n"
          ]
        }
      ]
    },
    {
      "cell_type": "code",
      "execution_count": null,
      "metadata": {
        "id": "gtdy5PGTd2Lb"
      },
      "outputs": [],
      "source": [
        "from Crypto.Cipher import DES\n",
        "from Crypto.Random import get_random_bytes"
      ]
    },
    {
      "cell_type": "code",
      "source": [
        "def pad_text(text):\n",
        "    # Ensure the plaintext length is a multiple of 8 bytes (DES block size)\n",
        "    #generate and return the padded_text\n",
        "\n",
        "    # text_len = len(text)\n",
        "    # padded_text = text.ljust(text_len + (8-(text_len %8)),b'\\x00'.decode('utf-8') )\n",
        "    # return padded_text\n",
        "\n",
        "    if isinstance(text,str):\n",
        "      text = text.encode('utf-8')\n",
        "    text_len = len(text)\n",
        "    pad_len = 8 - (text_len % 8)\n",
        "    if pad_len == 0:\n",
        "      pad_len = 8\n",
        "\n",
        "    pad = bytes([pad_len] * pad_len)\n",
        "    padded_text = text + pad\n",
        "    return padded_text"
      ],
      "metadata": {
        "id": "2YUag_rOe8Ox"
      },
      "execution_count": null,
      "outputs": []
    },
    {
      "cell_type": "code",
      "source": [
        "def des_encrypt(plaintext, key):\n",
        "    #encrypt DES(Mode:ECB) and return the ciphertext\n",
        "    c = DES.new(key, DES.MODE_ECB)\n",
        "    cipher_text = c.encrypt(plaintext)\n",
        "\n",
        "\n",
        "    return cipher_text\n"
      ],
      "metadata": {
        "id": "N7Yr6dX6fFEd"
      },
      "execution_count": null,
      "outputs": []
    },
    {
      "cell_type": "code",
      "source": [
        "plaintext = b\"This is a secret\"\n",
        "key = get_random_bytes(8)  # Generate a random 64-bit (8-byte) key\n",
        "\n",
        "print(\"Original plaintext:\", plaintext.decode('utf-8'))\n",
        "print(\"Original key (in bytes):\", key)\n",
        "\n",
        "plaintext = pad_text(plaintext)\n",
        "\n",
        "cipher_text = des_encrypt(plaintext, key)\n",
        "print(\"Encrypted ciphertext (in bytes):\", cipher_text)"
      ],
      "metadata": {
        "colab": {
          "base_uri": "https://localhost:8080/"
        },
        "id": "zdMdYJzofDCi",
        "outputId": "38f338bf-44d3-4e3a-c342-127e2ed4bb55"
      },
      "execution_count": null,
      "outputs": [
        {
          "output_type": "stream",
          "name": "stdout",
          "text": [
            "Original plaintext: This is a secret\n",
            "Original key (in bytes): b'\\rX\\xdc\\x88\\x8c\\xc7\\xc6\\xc5'\n",
            "Encrypted ciphertext (in bytes): b'\\xb8\\xfd\\x9f\\tA\\xa4\\t\\x1d\\xde\\xdc3f\\xb4f\\xfd^\\xe7\\xd1\\xff4BJ\\xefc'\n"
          ]
        }
      ]
    },
    {
      "cell_type": "code",
      "source": [
        "\n",
        "\n",
        "def unpad_text(padded_text):\n",
        "    # Remove the padding bytes to get the original plaintext\n",
        "    # Done for you\n",
        "    padding_length = padded_text[-1]\n",
        "    if padding_length > 0 and padding_length <= 8:\n",
        "        return padded_text[:-padding_length]\n",
        "    else:\n",
        "        return padded_text"
      ],
      "metadata": {
        "id": "KoXC3lYDfK2_"
      },
      "execution_count": null,
      "outputs": []
    },
    {
      "cell_type": "code",
      "source": [
        "def des_decrypt(ciphertext, key):\n",
        "  #decrypt DES(Mode:ECB) and return the plaintext\n",
        "  c = DES.new(key, DES.MODE_ECB)\n",
        "  decrypt_text = c.decrypt(cipher_text)\n",
        "  return plaintext"
      ],
      "metadata": {
        "id": "u2i13KIUfL21"
      },
      "execution_count": null,
      "outputs": []
    },
    {
      "cell_type": "code",
      "source": [
        "# Replace these with your ciphertext and key\n",
        "ciphertext = b'\\xb8\\xfd\\x9f\\tA\\xa4\\t\\x1d\\xde\\xdc3f\\xb4f\\xfd^\\xe7\\xd1\\xff4BJ\\xefc'\n",
        "key = b'\\rX\\xdc\\x88\\x8c\\xc7\\xc6\\xc5'\n",
        "\n",
        "decrypted_text = des_decrypt(ciphertext, key)\n",
        "original_text = unpad_text(decrypted_text)\n",
        "\n",
        "print(\"Decrypted text:\", original_text.decode('utf-8'))"
      ],
      "metadata": {
        "colab": {
          "base_uri": "https://localhost:8080/"
        },
        "id": "8IfaHQVvfO4m",
        "outputId": "82056f9c-68c0-4de9-b23e-264f92e7d537"
      },
      "execution_count": null,
      "outputs": [
        {
          "output_type": "stream",
          "name": "stdout",
          "text": [
            "Decrypted text: This is a secret\n"
          ]
        }
      ]
    },
    {
      "cell_type": "code",
      "source": [
        "#Implement double DES\n",
        "\n",
        "from Crypto.Cipher import DES\n",
        "\n",
        "\n",
        "def double_des_encrypt(keyA, keyB, plaintext):\n",
        "\n",
        "    plaintext = pad_text(plaintext)\n",
        "    cipher1 = des_encrypt(plaintext, keyA)\n",
        "\n",
        "    plain2 = pad_text(cipher1)\n",
        "    cipher2 = des_encrypt(plain2, keyB )\n",
        "    return cipher2\n",
        "\n",
        "\n",
        "\n",
        " # Test the Double DES encryption and decryption\n",
        "keyA = b'\\x01\\xadWR\\xeb\\x1a\\xa2\\x86'\n",
        "keyB = b'\\xf7\\xcf\\xd6r\\xd9\\xa1\\x141'\n",
        "plaintext = \"I am Batman\"\n",
        "\n",
        "encrypted_text = double_des_encrypt(keyA, keyB, plaintext)\n",
        "\n",
        "print(\"Original plaintext:\", plaintext)\n",
        "print(\"Encrypted text:\", encrypted_text)"
      ],
      "metadata": {
        "id": "jWwMSldIgfxl",
        "colab": {
          "base_uri": "https://localhost:8080/"
        },
        "outputId": "0c21dfa7-6937-4fba-d85a-8f4b754ff1ac"
      },
      "execution_count": null,
      "outputs": [
        {
          "output_type": "stream",
          "name": "stdout",
          "text": [
            "Original plaintext: I am Batman\n",
            "Encrypted text: b'\\xd2Em\\x06-1\\xf7$\\x0c\\xaaI\\xf0\\xc3\\x00\\xbd}@\\xae\\x0e\\x8c0\\xf4\\xb6\\xac'\n"
          ]
        }
      ]
    }
  ]
}